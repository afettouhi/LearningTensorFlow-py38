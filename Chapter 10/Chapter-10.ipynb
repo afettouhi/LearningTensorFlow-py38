{
 "cells": [
  {
   "cell_type": "code",
   "execution_count": 1,
   "metadata": {
    "collapsed": true
   },
   "outputs": [
    {
     "ename": "NameError",
     "evalue": "name 'sess' is not defined",
     "output_type": "error",
     "traceback": [
      "\u001B[0;31m---------------------------------------------------------------------------\u001B[0m",
      "\u001B[0;31mNameError\u001B[0m                                 Traceback (most recent call last)",
      "\u001B[0;32m<ipython-input-1-78b382aa5cff>\u001B[0m in \u001B[0;36m<module>\u001B[0;34m\u001B[0m\n\u001B[1;32m      1\u001B[0m \u001B[0;32mimport\u001B[0m \u001B[0mnumpy\u001B[0m \u001B[0;32mas\u001B[0m \u001B[0mnp\u001B[0m\u001B[0;34m\u001B[0m\u001B[0;34m\u001B[0m\u001B[0m\n\u001B[0;32m----> 2\u001B[0;31m \u001B[0mweights\u001B[0m \u001B[0;34m=\u001B[0m \u001B[0msess\u001B[0m\u001B[0;34m.\u001B[0m\u001B[0mrun\u001B[0m\u001B[0;34m(\u001B[0m\u001B[0mW\u001B[0m\u001B[0;34m)\u001B[0m\u001B[0;34m\u001B[0m\u001B[0;34m\u001B[0m\u001B[0m\n\u001B[0m\u001B[1;32m      3\u001B[0m \u001B[0mnp\u001B[0m\u001B[0;34m.\u001B[0m\u001B[0msavez\u001B[0m\u001B[0;34m(\u001B[0m\u001B[0mos\u001B[0m\u001B[0;34m.\u001B[0m\u001B[0mpath\u001B[0m\u001B[0;34m.\u001B[0m\u001B[0mjoin\u001B[0m\u001B[0;34m(\u001B[0m\u001B[0mpath\u001B[0m\u001B[0;34m,\u001B[0m \u001B[0;34m'weight_storage'\u001B[0m\u001B[0;34m)\u001B[0m\u001B[0;34m,\u001B[0m \u001B[0mweights\u001B[0m\u001B[0;34m)\u001B[0m\u001B[0;34m\u001B[0m\u001B[0;34m\u001B[0m\u001B[0m\n\u001B[1;32m      4\u001B[0m \u001B[0;34m\u001B[0m\u001B[0m\n",
      "\u001B[0;31mNameError\u001B[0m: name 'sess' is not defined"
     ]
    }
   ],
   "source": [
    "import numpy as np\n",
    "weights = sess.run(W)\n",
    "np.savez(os.path.join(path, 'weight_storage'), weights)"
   ]
  },
  {
   "cell_type": "code",
   "execution_count": 2,
   "outputs": [
    {
     "ename": "NameError",
     "evalue": "name 'path' is not defined",
     "output_type": "error",
     "traceback": [
      "\u001B[0;31m---------------------------------------------------------------------------\u001B[0m",
      "\u001B[0;31mNameError\u001B[0m                                 Traceback (most recent call last)",
      "\u001B[0;32m<ipython-input-2-3f4edb7f09a8>\u001B[0m in \u001B[0;36m<module>\u001B[0;34m\u001B[0m\n\u001B[1;32m      3\u001B[0m \u001B[0mtf\u001B[0m\u001B[0;34m.\u001B[0m\u001B[0mcompat\u001B[0m\u001B[0;34m.\u001B[0m\u001B[0mv1\u001B[0m\u001B[0;34m.\u001B[0m\u001B[0mdisable_eager_execution\u001B[0m\u001B[0;34m(\u001B[0m\u001B[0;34m)\u001B[0m\u001B[0;34m\u001B[0m\u001B[0;34m\u001B[0m\u001B[0m\n\u001B[1;32m      4\u001B[0m \u001B[0;34m\u001B[0m\u001B[0m\n\u001B[0;32m----> 5\u001B[0;31m \u001B[0mloaded_w\u001B[0m \u001B[0;34m=\u001B[0m \u001B[0mnp\u001B[0m\u001B[0;34m.\u001B[0m\u001B[0mload\u001B[0m\u001B[0;34m(\u001B[0m\u001B[0mpath\u001B[0m \u001B[0;34m+\u001B[0m \u001B[0;34m'weight_storage.npz'\u001B[0m\u001B[0;34m)\u001B[0m\u001B[0;34m\u001B[0m\u001B[0;34m\u001B[0m\u001B[0m\n\u001B[0m\u001B[1;32m      6\u001B[0m \u001B[0mloaded_w\u001B[0m \u001B[0;34m=\u001B[0m \u001B[0mloaded_w\u001B[0m\u001B[0;34m.\u001B[0m\u001B[0mitems\u001B[0m\u001B[0;34m(\u001B[0m\u001B[0;34m)\u001B[0m\u001B[0;34m[\u001B[0m\u001B[0;36m0\u001B[0m\u001B[0;34m]\u001B[0m\u001B[0;34m[\u001B[0m\u001B[0;36m1\u001B[0m\u001B[0;34m]\u001B[0m\u001B[0;34m\u001B[0m\u001B[0;34m\u001B[0m\u001B[0m\n\u001B[1;32m      7\u001B[0m \u001B[0;34m\u001B[0m\u001B[0m\n",
      "\u001B[0;31mNameError\u001B[0m: name 'path' is not defined"
     ]
    }
   ],
   "source": [
    "import tensorflow as tf\n",
    "\n",
    "tf.compat.v1.disable_eager_execution()\n",
    "\n",
    "loaded_w = np.load(path + 'weight_storage.npz')\n",
    "loaded_w = loaded_w.items()[0][1]\n",
    "\n",
    "x = tf.compat.v1.placeholder(tf.float32, [None, 784])\n",
    "W = tf.Variable(tf.zeros([784, 10]))\n",
    "y_true = tf.compat.v1.placeholder(tf.float32, [None, 10])\n",
    "y_pred = tf.matmul(x, W)\n",
    "cross_entropy = tf.reduce_mean(\n",
    "             tf.nn.softmax_cross_entropy_with_logits(logits=y_pred,\n",
    "                                                     labels=y_true))\n",
    "gd_step = tf.compat.v1.train.GradientDescentOptimizer(0.5)\\\n",
    "                                             .minimize(cross_entropy)\n",
    "correct_mask = tf.equal(tf.argmax(y_pred, 1), tf.argmax(y_true, 1))\n",
    "accuracy = tf.reduce_mean(tf.cast(correct_mask, tf.float32))\n",
    "\n",
    "with tf.compat.v1.Session() as sess:\n",
    "    # Assigning loaded weights\n",
    "    sess.run(W.assign(loaded_w))\n",
    "    acc = sess.run(accuracy, feed_dict={x: data.test.images,\n",
    "                                        y_true: data.test.labels})\n",
    "\n",
    "print(\"Accuracy: {}\".format(acc))\n"
   ],
   "metadata": {
    "collapsed": false,
    "pycharm": {
     "name": "#%%\n"
    }
   }
  },
  {
   "cell_type": "code",
   "execution_count": 3,
   "outputs": [
    {
     "ename": "NameError",
     "evalue": "name 'weights' is not defined",
     "output_type": "error",
     "traceback": [
      "\u001B[0;31m---------------------------------------------------------------------------\u001B[0m",
      "\u001B[0;31mNameError\u001B[0m                                 Traceback (most recent call last)",
      "\u001B[0;32m<ipython-input-3-bc3124075632>\u001B[0m in \u001B[0;36m<module>\u001B[0;34m\u001B[0m\n\u001B[0;32m----> 1\u001B[0;31m \u001B[0;32mif\u001B[0m \u001B[0mweights\u001B[0m \u001B[0;32mis\u001B[0m \u001B[0;32mnot\u001B[0m \u001B[0;32mNone\u001B[0m \u001B[0;32mand\u001B[0m \u001B[0msess\u001B[0m \u001B[0;32mis\u001B[0m \u001B[0;32mnot\u001B[0m \u001B[0;32mNone\u001B[0m\u001B[0;34m:\u001B[0m\u001B[0;34m\u001B[0m\u001B[0;34m\u001B[0m\u001B[0m\n\u001B[0m\u001B[1;32m      2\u001B[0m     \u001B[0mself\u001B[0m\u001B[0;34m.\u001B[0m\u001B[0mload_weights\u001B[0m\u001B[0;34m(\u001B[0m\u001B[0mweights\u001B[0m\u001B[0;34m,\u001B[0m \u001B[0msess\u001B[0m\u001B[0;34m)\u001B[0m\u001B[0;34m\u001B[0m\u001B[0;34m\u001B[0m\u001B[0m\n\u001B[1;32m      3\u001B[0m \u001B[0;34m\u001B[0m\u001B[0m\n",
      "\u001B[0;31mNameError\u001B[0m: name 'weights' is not defined"
     ]
    }
   ],
   "source": [
    "if weights is not None and sess is not None:\n",
    "    self.load_weights(weights, sess)"
   ],
   "metadata": {
    "collapsed": false,
    "pycharm": {
     "name": "#%%\n"
    }
   }
  },
  {
   "cell_type": "code",
   "execution_count": 4,
   "outputs": [],
   "source": [
    "def load_weights(self, weights, sess):\n",
    "    for i,w in enumerate(weights):\n",
    "        print(\"Weight index: {}\".format(i),\n",
    "                            \"Weight shape: {}\".format(w.shape))\n",
    "        sess.run(self.parameters[i].assign(w))"
   ],
   "metadata": {
    "collapsed": false,
    "pycharm": {
     "name": "#%%\n"
    }
   }
  },
  {
   "cell_type": "code",
   "execution_count": 5,
   "outputs": [],
   "source": [
    "class simple_cnn:\n",
    "    def __init__(self, x_image,keep_prob, weights=None, sess=None):\n",
    "\n",
    "        self.parameters = []\n",
    "        self.x_image = x_image\n",
    "\n",
    "        conv1 = self.conv_layer(x_image, shape=[5, 5, 1, 32])\n",
    "        conv1_pool = self.max_pool_2x2(conv1)\n",
    "\n",
    "        conv2 = self.conv_layer(conv1_pool, shape=[5, 5, 32, 64])\n",
    "        conv2_pool = self.max_pool_2x2(conv2)\n",
    "\n",
    "        conv2_flat = tf.reshape(conv2_pool, [-1, 7*7*64])\n",
    "        full_1 = tf.nn.relu(self.full_layer(conv2_flat, 1024))\n",
    "\n",
    "        full1_drop = tf.nn.dropout(full_1, keep_prob=keep_prob)\n",
    "\n",
    "        self.y_conv = self.full_layer(full1_drop, 10)\n",
    "\n",
    "        if weights is not None and sess is not None:\n",
    "            self.load_weights(weights, sess)\n",
    "\n",
    "    def weight_variable(self,shape):\n",
    "        initial = tf.compat.v1.truncated_normal(shape, stddev=0.1)\n",
    "        return tf.Variable(initial,name='weights')\n",
    "\n",
    "\n",
    "    def bias_variable(self,shape):\n",
    "        initial = tf.constant(0.1, shape=shape)\n",
    "        return tf.Variable(initial,name='biases')\n",
    "\n",
    "\n",
    "    def conv2d(self,x, W):\n",
    "        return tf.nn.conv2d(x, W, strides=[1, 1, 1, 1],\n",
    "                                       padding='SAME')\n",
    "\n",
    "\n",
    "    def max_pool_2x2(self,x):\n",
    "        return tf.nn.max_pool(x, ksize=[1, 2, 2, 1],\n",
    "                              strides=[1, 2, 2, 1], padding='SAME')\n",
    "\n",
    "\n",
    "    def conv_layer(self,input, shape):\n",
    "        W = self.weight_variable(shape)\n",
    "        b = self.bias_variable([shape[3]])\n",
    "        self.parameters += [W, b]\n",
    "\n",
    "        return tf.nn.relu(self.conv2d(input, W) + b)\n",
    "\n",
    "\n",
    "    def full_layer(self,input, size):\n",
    "        in_size = int(input.get_shape()[1])\n",
    "        W = self.weight_variable([in_size, size])\n",
    "        b = self.bias_variable([size])\n",
    "        self.parameters += [W, b]\n",
    "        return tf.matmul(input, W) + b\n",
    "\n",
    "\n",
    "    def load_weights(self, weights, sess):\n",
    "        for i,w in enumerate(weights):\n",
    "            print(\"Weight index: {}\".format(i),\n",
    "                               \"Weight shape: {}\".format(w.shape))\n",
    "            sess.run(self.parameters[i].assign(w))"
   ],
   "metadata": {
    "collapsed": false,
    "pycharm": {
     "name": "#%%\n"
    }
   }
  },
  {
   "cell_type": "code",
   "execution_count": 6,
   "outputs": [
    {
     "ename": "NameError",
     "evalue": "name 'path' is not defined",
     "output_type": "error",
     "traceback": [
      "\u001B[0;31m---------------------------------------------------------------------------\u001B[0m",
      "\u001B[0;31mNameError\u001B[0m                                 Traceback (most recent call last)",
      "\u001B[0;32m<ipython-input-6-7b9e94042711>\u001B[0m in \u001B[0;36m<module>\u001B[0;34m\u001B[0m\n\u001B[1;32m      6\u001B[0m \u001B[0msess\u001B[0m \u001B[0;34m=\u001B[0m \u001B[0mtf\u001B[0m\u001B[0;34m.\u001B[0m\u001B[0mcompat\u001B[0m\u001B[0;34m.\u001B[0m\u001B[0mv1\u001B[0m\u001B[0;34m.\u001B[0m\u001B[0mSession\u001B[0m\u001B[0;34m(\u001B[0m\u001B[0;34m)\u001B[0m\u001B[0;34m\u001B[0m\u001B[0;34m\u001B[0m\u001B[0m\n\u001B[1;32m      7\u001B[0m \u001B[0;34m\u001B[0m\u001B[0m\n\u001B[0;32m----> 8\u001B[0;31m \u001B[0mweights\u001B[0m \u001B[0;34m=\u001B[0m \u001B[0mnp\u001B[0m\u001B[0;34m.\u001B[0m\u001B[0mload\u001B[0m\u001B[0;34m(\u001B[0m\u001B[0mpath\u001B[0m \u001B[0;34m+\u001B[0m \u001B[0;34m'cnn_weight_storage.npz'\u001B[0m\u001B[0;34m)\u001B[0m\u001B[0;34m\u001B[0m\u001B[0;34m\u001B[0m\u001B[0m\n\u001B[0m\u001B[1;32m      9\u001B[0m \u001B[0mweights\u001B[0m \u001B[0;34m=\u001B[0m \u001B[0mweights\u001B[0m\u001B[0;34m.\u001B[0m\u001B[0mitems\u001B[0m\u001B[0;34m(\u001B[0m\u001B[0;34m)\u001B[0m\u001B[0;34m[\u001B[0m\u001B[0;36m0\u001B[0m\u001B[0;34m]\u001B[0m\u001B[0;34m[\u001B[0m\u001B[0;36m1\u001B[0m\u001B[0;34m]\u001B[0m\u001B[0;34m\u001B[0m\u001B[0;34m\u001B[0m\u001B[0m\n\u001B[1;32m     10\u001B[0m \u001B[0mcnn\u001B[0m \u001B[0;34m=\u001B[0m \u001B[0msimple_cnn\u001B[0m\u001B[0;34m(\u001B[0m\u001B[0mx_image\u001B[0m\u001B[0;34m,\u001B[0m \u001B[0mkeep_prob\u001B[0m\u001B[0;34m,\u001B[0m \u001B[0mweights\u001B[0m\u001B[0;34m,\u001B[0m \u001B[0msess\u001B[0m\u001B[0;34m)\u001B[0m\u001B[0;34m\u001B[0m\u001B[0;34m\u001B[0m\u001B[0m\n",
      "\u001B[0;31mNameError\u001B[0m: name 'path' is not defined"
     ]
    }
   ],
   "source": [
    "x = tf.compat.v1.placeholder(tf.float32, shape=[None, 784])\n",
    "x_image = tf.reshape(x, [-1, 28, 28, 1])\n",
    "y_ = tf.compat.v1.placeholder(tf.float32, shape=[None, 10])\n",
    "keep_prob = tf.compat.v1.placeholder(tf.float32)\n",
    "\n",
    "sess = tf.compat.v1.Session()\n",
    "\n",
    "weights = np.load(path + 'cnn_weight_storage.npz')\n",
    "weights = weights.items()[0][1]\n",
    "cnn = simple_cnn(x_image, keep_prob, weights, sess)\n",
    "\n",
    "cross_entropy = tf.reduce_mean(\n",
    "            tf.nn.softmax_cross_entropy_with_logits(\n",
    "                                                 logits=cnn.y_conv,\n",
    "                                                 labels=y_))\n",
    "train_step = tf.compat.v1.train.AdamOptimizer(1e-4).minimize(cross_entropy)\n",
    "\n",
    "correct_prediction = tf.equal(tf.argmax(cnn.y_conv, 1),\n",
    "                                      tf.argmax(y_, 1))\n",
    "accuracy = tf.reduce_mean(tf.cast(correct_prediction, tf.float32))\n",
    "\n",
    "X = data.test.images.reshape(10, 1000, 784)\n",
    "Y = data.test.labels.reshape(10, 1000, 10)\n",
    "test_accuracy = np.mean([sess.run(accuracy,\n",
    "                         feed_dict={x:X[i], y_:Y[i],keep_prob:1.0})\n",
    "                         for i in range(10)])\n",
    "\n",
    "sess.close()"
   ],
   "metadata": {
    "collapsed": false,
    "pycharm": {
     "name": "#%%\n"
    }
   }
  },
  {
   "cell_type": "code",
   "execution_count": 7,
   "outputs": [
    {
     "ename": "ValueError",
     "evalue": "No variables to save",
     "output_type": "error",
     "traceback": [
      "\u001B[0;31m---------------------------------------------------------------------------\u001B[0m",
      "\u001B[0;31mValueError\u001B[0m                                Traceback (most recent call last)",
      "\u001B[0;32m<ipython-input-7-53a60d5eb73e>\u001B[0m in \u001B[0;36m<module>\u001B[0;34m\u001B[0m\n\u001B[0;32m----> 1\u001B[0;31m saver = tf.compat.v1.train.Saver(max_to_keep=7, \n\u001B[0m\u001B[1;32m      2\u001B[0m                        keep_checkpoint_every_n_hours=0.5)\n\u001B[1;32m      3\u001B[0m \u001B[0;34m\u001B[0m\u001B[0m\n",
      "\u001B[0;32m~/Dokumenter/Programs/miniconda3/envs/LearningTensorFlow/lib/python3.8/site-packages/tensorflow/python/training/saver.py\u001B[0m in \u001B[0;36m__init__\u001B[0;34m(self, var_list, reshape, sharded, max_to_keep, keep_checkpoint_every_n_hours, name, restore_sequentially, saver_def, builder, defer_build, allow_empty, write_version, pad_step_number, save_relative_paths, filename)\u001B[0m\n\u001B[1;32m    834\u001B[0m           time.time() + self._keep_checkpoint_every_n_hours * 3600)\n\u001B[1;32m    835\u001B[0m     \u001B[0;32melif\u001B[0m \u001B[0;32mnot\u001B[0m \u001B[0mdefer_build\u001B[0m\u001B[0;34m:\u001B[0m\u001B[0;34m\u001B[0m\u001B[0;34m\u001B[0m\u001B[0m\n\u001B[0;32m--> 836\u001B[0;31m       \u001B[0mself\u001B[0m\u001B[0;34m.\u001B[0m\u001B[0mbuild\u001B[0m\u001B[0;34m(\u001B[0m\u001B[0;34m)\u001B[0m\u001B[0;34m\u001B[0m\u001B[0;34m\u001B[0m\u001B[0m\n\u001B[0m\u001B[1;32m    837\u001B[0m     \u001B[0;32mif\u001B[0m \u001B[0mself\u001B[0m\u001B[0;34m.\u001B[0m\u001B[0msaver_def\u001B[0m\u001B[0;34m:\u001B[0m\u001B[0;34m\u001B[0m\u001B[0;34m\u001B[0m\u001B[0m\n\u001B[1;32m    838\u001B[0m       \u001B[0mself\u001B[0m\u001B[0;34m.\u001B[0m\u001B[0m_check_saver_def\u001B[0m\u001B[0;34m(\u001B[0m\u001B[0;34m)\u001B[0m\u001B[0;34m\u001B[0m\u001B[0;34m\u001B[0m\u001B[0m\n",
      "\u001B[0;32m~/Dokumenter/Programs/miniconda3/envs/LearningTensorFlow/lib/python3.8/site-packages/tensorflow/python/training/saver.py\u001B[0m in \u001B[0;36mbuild\u001B[0;34m(self)\u001B[0m\n\u001B[1;32m    846\u001B[0m     \u001B[0;32mif\u001B[0m \u001B[0mcontext\u001B[0m\u001B[0;34m.\u001B[0m\u001B[0mexecuting_eagerly\u001B[0m\u001B[0;34m(\u001B[0m\u001B[0;34m)\u001B[0m\u001B[0;34m:\u001B[0m\u001B[0;34m\u001B[0m\u001B[0;34m\u001B[0m\u001B[0m\n\u001B[1;32m    847\u001B[0m       \u001B[0;32mraise\u001B[0m \u001B[0mRuntimeError\u001B[0m\u001B[0;34m(\u001B[0m\u001B[0;34m\"Use save/restore instead of build in eager mode.\"\u001B[0m\u001B[0;34m)\u001B[0m\u001B[0;34m\u001B[0m\u001B[0;34m\u001B[0m\u001B[0m\n\u001B[0;32m--> 848\u001B[0;31m     \u001B[0mself\u001B[0m\u001B[0;34m.\u001B[0m\u001B[0m_build\u001B[0m\u001B[0;34m(\u001B[0m\u001B[0mself\u001B[0m\u001B[0;34m.\u001B[0m\u001B[0m_filename\u001B[0m\u001B[0;34m,\u001B[0m \u001B[0mbuild_save\u001B[0m\u001B[0;34m=\u001B[0m\u001B[0;32mTrue\u001B[0m\u001B[0;34m,\u001B[0m \u001B[0mbuild_restore\u001B[0m\u001B[0;34m=\u001B[0m\u001B[0;32mTrue\u001B[0m\u001B[0;34m)\u001B[0m\u001B[0;34m\u001B[0m\u001B[0;34m\u001B[0m\u001B[0m\n\u001B[0m\u001B[1;32m    849\u001B[0m \u001B[0;34m\u001B[0m\u001B[0m\n\u001B[1;32m    850\u001B[0m   \u001B[0;32mdef\u001B[0m \u001B[0m_build_eager\u001B[0m\u001B[0;34m(\u001B[0m\u001B[0mself\u001B[0m\u001B[0;34m,\u001B[0m \u001B[0mcheckpoint_path\u001B[0m\u001B[0;34m,\u001B[0m \u001B[0mbuild_save\u001B[0m\u001B[0;34m,\u001B[0m \u001B[0mbuild_restore\u001B[0m\u001B[0;34m)\u001B[0m\u001B[0;34m:\u001B[0m\u001B[0;34m\u001B[0m\u001B[0;34m\u001B[0m\u001B[0m\n",
      "\u001B[0;32m~/Dokumenter/Programs/miniconda3/envs/LearningTensorFlow/lib/python3.8/site-packages/tensorflow/python/training/saver.py\u001B[0m in \u001B[0;36m_build\u001B[0;34m(self, checkpoint_path, build_save, build_restore)\u001B[0m\n\u001B[1;32m    871\u001B[0m           \u001B[0;32mreturn\u001B[0m\u001B[0;34m\u001B[0m\u001B[0;34m\u001B[0m\u001B[0m\n\u001B[1;32m    872\u001B[0m         \u001B[0;32melse\u001B[0m\u001B[0;34m:\u001B[0m\u001B[0;34m\u001B[0m\u001B[0;34m\u001B[0m\u001B[0m\n\u001B[0;32m--> 873\u001B[0;31m           \u001B[0;32mraise\u001B[0m \u001B[0mValueError\u001B[0m\u001B[0;34m(\u001B[0m\u001B[0;34m\"No variables to save\"\u001B[0m\u001B[0;34m)\u001B[0m\u001B[0;34m\u001B[0m\u001B[0;34m\u001B[0m\u001B[0m\n\u001B[0m\u001B[1;32m    874\u001B[0m       \u001B[0mself\u001B[0m\u001B[0;34m.\u001B[0m\u001B[0m_is_empty\u001B[0m \u001B[0;34m=\u001B[0m \u001B[0;32mFalse\u001B[0m\u001B[0;34m\u001B[0m\u001B[0;34m\u001B[0m\u001B[0m\n\u001B[1;32m    875\u001B[0m \u001B[0;34m\u001B[0m\u001B[0m\n",
      "\u001B[0;31mValueError\u001B[0m: No variables to save"
     ]
    }
   ],
   "source": [
    "saver = tf.compat.v1.train.Saver(max_to_keep=7,\n",
    "                       keep_checkpoint_every_n_hours=0.5)"
   ],
   "metadata": {
    "collapsed": false,
    "pycharm": {
     "name": "#%%\n"
    }
   }
  },
  {
   "cell_type": "code",
   "execution_count": 8,
   "outputs": [
    {
     "ename": "IndentationError",
     "evalue": "unexpected indent (<ipython-input-8-56dcba2ec091>, line 7)",
     "output_type": "error",
     "traceback": [
      "\u001B[0;36m  File \u001B[0;32m\"<ipython-input-8-56dcba2ec091>\"\u001B[0;36m, line \u001B[0;32m7\u001B[0m\n\u001B[0;31m    if step % 50 == 0:\u001B[0m\n\u001B[0m    ^\u001B[0m\n\u001B[0;31mIndentationError\u001B[0m\u001B[0;31m:\u001B[0m unexpected indent\n"
     ]
    }
   ],
   "source": [
    "DIR = \"../data/\"\n",
    "\n",
    "with tf.compat.v1.Session() as sess:\n",
    "    for step in range(1,NUM_STEPS+1):\n",
    "        batch_xs, batch_ys = data.train.next_batch(MINIBATCH_SIZE)\n",
    "        sess.run(gd_step, feed_dict={x: batch_xs, y_true: batch_ys})\n",
    "            if step % 50 == 0:\n",
    "            saver.save(sess, os.path.join(DIR, \"model\"),\n",
    "                                      global_step=step)"
   ],
   "metadata": {
    "collapsed": false,
    "pycharm": {
     "name": "#%%\n"
    }
   }
  },
  {
   "cell_type": "code",
   "execution_count": 9,
   "outputs": [
    {
     "ename": "ModuleNotFoundError",
     "evalue": "No module named 'tensorflow.examples.tutorials'",
     "output_type": "error",
     "traceback": [
      "\u001B[0;31m---------------------------------------------------------------------------\u001B[0m",
      "\u001B[0;31mModuleNotFoundError\u001B[0m                       Traceback (most recent call last)",
      "\u001B[0;32m<ipython-input-9-c17c6dfc5a1d>\u001B[0m in \u001B[0;36m<module>\u001B[0;34m\u001B[0m\n\u001B[0;32m----> 1\u001B[0;31m \u001B[0;32mfrom\u001B[0m \u001B[0mtensorflow\u001B[0m\u001B[0;34m.\u001B[0m\u001B[0mexamples\u001B[0m\u001B[0;34m.\u001B[0m\u001B[0mtutorials\u001B[0m\u001B[0;34m.\u001B[0m\u001B[0mmnist\u001B[0m \u001B[0;32mimport\u001B[0m \u001B[0minput_data\u001B[0m\u001B[0;34m\u001B[0m\u001B[0;34m\u001B[0m\u001B[0m\n\u001B[0m\u001B[1;32m      2\u001B[0m \u001B[0mDATA_DIR\u001B[0m \u001B[0;34m=\u001B[0m \u001B[0;34m'/tmp/data'\u001B[0m\u001B[0;34m\u001B[0m\u001B[0;34m\u001B[0m\u001B[0m\n\u001B[1;32m      3\u001B[0m \u001B[0mdata\u001B[0m \u001B[0;34m=\u001B[0m \u001B[0minput_data\u001B[0m\u001B[0;34m.\u001B[0m\u001B[0mread_data_sets\u001B[0m\u001B[0;34m(\u001B[0m\u001B[0mDATA_DIR\u001B[0m\u001B[0;34m,\u001B[0m \u001B[0mone_hot\u001B[0m\u001B[0;34m=\u001B[0m\u001B[0;32mTrue\u001B[0m\u001B[0;34m)\u001B[0m\u001B[0;34m\u001B[0m\u001B[0;34m\u001B[0m\u001B[0m\n\u001B[1;32m      4\u001B[0m \u001B[0;34m\u001B[0m\u001B[0m\n\u001B[1;32m      5\u001B[0m \u001B[0mNUM_STEPS\u001B[0m \u001B[0;34m=\u001B[0m \u001B[0;36m1000\u001B[0m\u001B[0;34m\u001B[0m\u001B[0;34m\u001B[0m\u001B[0m\n",
      "\u001B[0;31mModuleNotFoundError\u001B[0m: No module named 'tensorflow.examples.tutorials'"
     ]
    }
   ],
   "source": [
    "from tensorflow.examples.tutorials.mnist import input_data\n",
    "DATA_DIR = '/tmp/data'\n",
    "data = input_data.read_data_sets(DATA_DIR, one_hot=True)\n",
    "\n",
    "NUM_STEPS = 1000\n",
    "MINIBATCH_SIZE = 100\n",
    "\n",
    "DIR = \"path/to/model\"\n",
    "\n",
    "x = tf.compat.v1.placeholder(tf.float32, [None, 784],name='x')\n",
    "W = tf.Variable(tf.zeros([784, 10]),name='W')\n",
    "y_true = tf.compat.v1.placeholder(tf.float32, [None, 10])\n",
    "y_pred = tf.matmul(x, W)\n",
    "cross_entropy = tf.reduce_mean(\n",
    "             tf.nn.softmax_cross_entropy_with_logits(logits=y_pred,\n",
    "                                                     labels=y_true))\n",
    "gd_step = tf.compat.v1.train.GradientDescentOptimizer(0.5)\\\n",
    "                                              .minimize(cross_entropy)\n",
    "correct_mask = tf.equal(tf.argmax(y_pred, 1), tf.argmax(y_true, 1))\n",
    "accuracy = tf.reduce_mean(tf.cast(correct_mask, tf.float32))\n",
    "\n",
    "saver = tf.compat.v1.train.Saver(max_to_keep=7,\n",
    "                       keep_checkpoint_every_n_hours=1)\n",
    "\n",
    "with tf.compat.v1.Session() as sess:\n",
    "    sess.run(tf.compat.v1.global_variables_initializer())\n",
    "    for step in range(1,NUM_STEPS+1):\n",
    "        batch_xs, batch_ys = data.train.next_batch(MINIBATCH_SIZE)\n",
    "        sess.run(gd_step, feed_dict={x: batch_xs, y_true: batch_ys})\n",
    "\n",
    "        if step % 50 == 0:\n",
    "            saver.save(sess, os.path.join(DIR, \"model_ckpt\"),\n",
    "                                           global_step=step)\n",
    "\n",
    "    ans = sess.run(accuracy, feed_dict={x: data.test.images,\n",
    "                                        y_true: data.test.labels})\n",
    "\n",
    "print(\"Accuracy: {:.4}%\".format(ans*100))"
   ],
   "metadata": {
    "collapsed": false,
    "pycharm": {
     "name": "#%%\n"
    }
   }
  },
  {
   "cell_type": "code",
   "execution_count": 10,
   "outputs": [
    {
     "name": "stdout",
     "output_type": "stream",
     "text": [
      "WARNING:tensorflow:From /home/af/Dokumenter/Programs/miniconda3/envs/LearningTensorFlow/lib/python3.8/site-packages/tensorflow/python/ops/resource_variable_ops.py:1659: calling BaseResourceVariable.__init__ (from tensorflow.python.ops.resource_variable_ops) with constraint is deprecated and will be removed in a future version.\n",
      "Instructions for updating:\n",
      "If using Keras pass *_constraint arguments to layers.\n"
     ]
    },
    {
     "ename": "NameError",
     "evalue": "name 'os' is not defined",
     "output_type": "error",
     "traceback": [
      "\u001B[0;31m---------------------------------------------------------------------------\u001B[0m",
      "\u001B[0;31mNameError\u001B[0m                                 Traceback (most recent call last)",
      "\u001B[0;32m<ipython-input-10-6518b2509647>\u001B[0m in \u001B[0;36m<module>\u001B[0;34m\u001B[0m\n\u001B[1;32m     16\u001B[0m \u001B[0;32mwith\u001B[0m \u001B[0mtf\u001B[0m\u001B[0;34m.\u001B[0m\u001B[0mcompat\u001B[0m\u001B[0;34m.\u001B[0m\u001B[0mv1\u001B[0m\u001B[0;34m.\u001B[0m\u001B[0mSession\u001B[0m\u001B[0;34m(\u001B[0m\u001B[0;34m)\u001B[0m \u001B[0;32mas\u001B[0m \u001B[0msess\u001B[0m\u001B[0;34m:\u001B[0m\u001B[0;34m\u001B[0m\u001B[0;34m\u001B[0m\u001B[0m\n\u001B[1;32m     17\u001B[0m \u001B[0;34m\u001B[0m\u001B[0m\n\u001B[0;32m---> 18\u001B[0;31m     \u001B[0msaver\u001B[0m\u001B[0;34m.\u001B[0m\u001B[0mrestore\u001B[0m\u001B[0;34m(\u001B[0m\u001B[0msess\u001B[0m\u001B[0;34m,\u001B[0m \u001B[0mos\u001B[0m\u001B[0;34m.\u001B[0m\u001B[0mpath\u001B[0m\u001B[0;34m.\u001B[0m\u001B[0mjoin\u001B[0m\u001B[0;34m(\u001B[0m\u001B[0mDIR\u001B[0m\u001B[0;34m,\u001B[0m\u001B[0;34m\"model_ckpt-1000\"\u001B[0m\u001B[0;34m)\u001B[0m\u001B[0;34m)\u001B[0m\u001B[0;34m\u001B[0m\u001B[0;34m\u001B[0m\u001B[0m\n\u001B[0m\u001B[1;32m     19\u001B[0m     ans = sess.run(accuracy, feed_dict={x: data.test.images, \n\u001B[1;32m     20\u001B[0m                                         y_true: data.test.labels})\n",
      "\u001B[0;31mNameError\u001B[0m: name 'os' is not defined"
     ]
    }
   ],
   "source": [
    "tf.compat.v1.reset_default_graph()\n",
    "x = tf.compat.v1.placeholder(tf.float32, [None, 784],name='x')\n",
    "W = tf.Variable(tf.zeros([784, 10]),name='W')\n",
    "y_true = tf.compat.v1.placeholder(tf.float32, [None, 10])\n",
    "y_pred = tf.matmul(x, W)\n",
    "cross_entropy = tf.reduce_mean(\n",
    "             tf.nn.softmax_cross_entropy_with_logits(logits=y_pred,\n",
    "                                                         labels=y_true))\n",
    "gd_step = tf.compat.v1.train.GradientDescentOptimizer(0.5)\\\n",
    "                                             .minimize(cross_entropy)\n",
    "correct_mask = tf.equal(tf.argmax(y_pred, 1), tf.argmax(y_true, 1))\n",
    "accuracy = tf.reduce_mean(tf.cast(correct_mask, tf.float32))\n",
    "\n",
    "saver = tf.compat.v1.train.Saver()\n",
    "\n",
    "with tf.compat.v1.Session() as sess:\n",
    "\n",
    "    saver.restore(sess, os.path.join(DIR,\"model_ckpt-1000\"))\n",
    "    ans = sess.run(accuracy, feed_dict={x: data.test.images,\n",
    "                                        y_true: data.test.labels})\n",
    "\n",
    "print(\"Accuracy: {:.4}%\".format(ans*100))"
   ],
   "metadata": {
    "collapsed": false,
    "pycharm": {
     "name": "#%%\n"
    }
   }
  },
  {
   "cell_type": "code",
   "execution_count": 11,
   "outputs": [
    {
     "ename": "NameError",
     "evalue": "name 'os' is not defined",
     "output_type": "error",
     "traceback": [
      "\u001B[0;31m---------------------------------------------------------------------------\u001B[0m",
      "\u001B[0;31mNameError\u001B[0m                                 Traceback (most recent call last)",
      "\u001B[0;32m<ipython-input-11-d93f0b171c06>\u001B[0m in \u001B[0;36m<module>\u001B[0;34m\u001B[0m\n\u001B[1;32m      3\u001B[0m \u001B[0;34m\u001B[0m\u001B[0m\n\u001B[1;32m      4\u001B[0m \u001B[0;32mwith\u001B[0m \u001B[0mtf\u001B[0m\u001B[0;34m.\u001B[0m\u001B[0mcompat\u001B[0m\u001B[0;34m.\u001B[0m\u001B[0mv1\u001B[0m\u001B[0;34m.\u001B[0m\u001B[0mSession\u001B[0m\u001B[0;34m(\u001B[0m\u001B[0;34m)\u001B[0m \u001B[0;32mas\u001B[0m \u001B[0msess\u001B[0m\u001B[0;34m:\u001B[0m\u001B[0;34m\u001B[0m\u001B[0;34m\u001B[0m\u001B[0m\n\u001B[0;32m----> 5\u001B[0;31m     saver = tf.compat.v1.train.import_meta_graph(os.path.join(\n\u001B[0m\u001B[1;32m      6\u001B[0m                                        DIR,\"model_ckpt-1000.meta\"))\n\u001B[1;32m      7\u001B[0m     \u001B[0msaver\u001B[0m\u001B[0;34m.\u001B[0m\u001B[0mrestore\u001B[0m\u001B[0;34m(\u001B[0m\u001B[0msess\u001B[0m\u001B[0;34m,\u001B[0m \u001B[0mos\u001B[0m\u001B[0;34m.\u001B[0m\u001B[0mpath\u001B[0m\u001B[0;34m.\u001B[0m\u001B[0mjoin\u001B[0m\u001B[0;34m(\u001B[0m\u001B[0mDIR\u001B[0m\u001B[0;34m,\u001B[0m\u001B[0;34m\"model_ckpt-1000\"\u001B[0m\u001B[0;34m)\u001B[0m\u001B[0;34m)\u001B[0m\u001B[0;34m\u001B[0m\u001B[0;34m\u001B[0m\u001B[0m\n",
      "\u001B[0;31mNameError\u001B[0m: name 'os' is not defined"
     ]
    }
   ],
   "source": [
    "tf.compat.v1.reset_default_graph()\n",
    "DIR = \"../data/\"\n",
    "\n",
    "with tf.compat.v1.Session() as sess:\n",
    "    saver = tf.compat.v1.train.import_meta_graph(os.path.join(\n",
    "                                       DIR,\"model_ckpt-1000.meta\"))\n",
    "    saver.restore(sess, os.path.join(DIR,\"model_ckpt-1000\"))\n",
    "\n",
    "    ans = sess.run(accuracy, feed_dict={x: data.test.images,\n",
    "                                        y_true: data.test.labels})\n",
    "\n",
    "print(\"Accuracy: {:.4}%\".format(ans*100))"
   ],
   "metadata": {
    "collapsed": false,
    "pycharm": {
     "name": "#%%\n"
    }
   }
  },
  {
   "cell_type": "code",
   "execution_count": 12,
   "outputs": [],
   "source": [
    "train_var = [x,y_true,accuracy]\n",
    "tf.compat.v1.add_to_collection('train_var', train_var[0])\n",
    "tf.compat.v1.add_to_collection('train_var', train_var[1])\n",
    "tf.compat.v1.add_to_collection('train_var', train_var[2])"
   ],
   "metadata": {
    "collapsed": false,
    "pycharm": {
     "name": "#%%\n"
    }
   }
  },
  {
   "cell_type": "code",
   "execution_count": 13,
   "outputs": [
    {
     "ename": "ValueError",
     "evalue": "No variables to save",
     "output_type": "error",
     "traceback": [
      "\u001B[0;31m---------------------------------------------------------------------------\u001B[0m",
      "\u001B[0;31mValueError\u001B[0m                                Traceback (most recent call last)",
      "\u001B[0;32m<ipython-input-13-a42eaeeabe5d>\u001B[0m in \u001B[0;36m<module>\u001B[0;34m\u001B[0m\n\u001B[1;32m      4\u001B[0m \u001B[0mtf\u001B[0m\u001B[0;34m.\u001B[0m\u001B[0mcompat\u001B[0m\u001B[0;34m.\u001B[0m\u001B[0mv1\u001B[0m\u001B[0;34m.\u001B[0m\u001B[0madd_to_collection\u001B[0m\u001B[0;34m(\u001B[0m\u001B[0;34m'train_var'\u001B[0m\u001B[0;34m,\u001B[0m \u001B[0mtrain_var\u001B[0m\u001B[0;34m[\u001B[0m\u001B[0;36m2\u001B[0m\u001B[0;34m]\u001B[0m\u001B[0;34m)\u001B[0m\u001B[0;34m\u001B[0m\u001B[0;34m\u001B[0m\u001B[0m\n\u001B[1;32m      5\u001B[0m \u001B[0;34m\u001B[0m\u001B[0m\n\u001B[0;32m----> 6\u001B[0;31m saver = tf.compat.v1.train.Saver(max_to_keep=7, \n\u001B[0m\u001B[1;32m      7\u001B[0m                        keep_checkpoint_every_n_hours=1)\n\u001B[1;32m      8\u001B[0m saver.export_meta_graph(os.path.join(DIR,\"model_ckpt.meta\")\n",
      "\u001B[0;32m~/Dokumenter/Programs/miniconda3/envs/LearningTensorFlow/lib/python3.8/site-packages/tensorflow/python/training/saver.py\u001B[0m in \u001B[0;36m__init__\u001B[0;34m(self, var_list, reshape, sharded, max_to_keep, keep_checkpoint_every_n_hours, name, restore_sequentially, saver_def, builder, defer_build, allow_empty, write_version, pad_step_number, save_relative_paths, filename)\u001B[0m\n\u001B[1;32m    834\u001B[0m           time.time() + self._keep_checkpoint_every_n_hours * 3600)\n\u001B[1;32m    835\u001B[0m     \u001B[0;32melif\u001B[0m \u001B[0;32mnot\u001B[0m \u001B[0mdefer_build\u001B[0m\u001B[0;34m:\u001B[0m\u001B[0;34m\u001B[0m\u001B[0;34m\u001B[0m\u001B[0m\n\u001B[0;32m--> 836\u001B[0;31m       \u001B[0mself\u001B[0m\u001B[0;34m.\u001B[0m\u001B[0mbuild\u001B[0m\u001B[0;34m(\u001B[0m\u001B[0;34m)\u001B[0m\u001B[0;34m\u001B[0m\u001B[0;34m\u001B[0m\u001B[0m\n\u001B[0m\u001B[1;32m    837\u001B[0m     \u001B[0;32mif\u001B[0m \u001B[0mself\u001B[0m\u001B[0;34m.\u001B[0m\u001B[0msaver_def\u001B[0m\u001B[0;34m:\u001B[0m\u001B[0;34m\u001B[0m\u001B[0;34m\u001B[0m\u001B[0m\n\u001B[1;32m    838\u001B[0m       \u001B[0mself\u001B[0m\u001B[0;34m.\u001B[0m\u001B[0m_check_saver_def\u001B[0m\u001B[0;34m(\u001B[0m\u001B[0;34m)\u001B[0m\u001B[0;34m\u001B[0m\u001B[0;34m\u001B[0m\u001B[0m\n",
      "\u001B[0;32m~/Dokumenter/Programs/miniconda3/envs/LearningTensorFlow/lib/python3.8/site-packages/tensorflow/python/training/saver.py\u001B[0m in \u001B[0;36mbuild\u001B[0;34m(self)\u001B[0m\n\u001B[1;32m    846\u001B[0m     \u001B[0;32mif\u001B[0m \u001B[0mcontext\u001B[0m\u001B[0;34m.\u001B[0m\u001B[0mexecuting_eagerly\u001B[0m\u001B[0;34m(\u001B[0m\u001B[0;34m)\u001B[0m\u001B[0;34m:\u001B[0m\u001B[0;34m\u001B[0m\u001B[0;34m\u001B[0m\u001B[0m\n\u001B[1;32m    847\u001B[0m       \u001B[0;32mraise\u001B[0m \u001B[0mRuntimeError\u001B[0m\u001B[0;34m(\u001B[0m\u001B[0;34m\"Use save/restore instead of build in eager mode.\"\u001B[0m\u001B[0;34m)\u001B[0m\u001B[0;34m\u001B[0m\u001B[0;34m\u001B[0m\u001B[0m\n\u001B[0;32m--> 848\u001B[0;31m     \u001B[0mself\u001B[0m\u001B[0;34m.\u001B[0m\u001B[0m_build\u001B[0m\u001B[0;34m(\u001B[0m\u001B[0mself\u001B[0m\u001B[0;34m.\u001B[0m\u001B[0m_filename\u001B[0m\u001B[0;34m,\u001B[0m \u001B[0mbuild_save\u001B[0m\u001B[0;34m=\u001B[0m\u001B[0;32mTrue\u001B[0m\u001B[0;34m,\u001B[0m \u001B[0mbuild_restore\u001B[0m\u001B[0;34m=\u001B[0m\u001B[0;32mTrue\u001B[0m\u001B[0;34m)\u001B[0m\u001B[0;34m\u001B[0m\u001B[0;34m\u001B[0m\u001B[0m\n\u001B[0m\u001B[1;32m    849\u001B[0m \u001B[0;34m\u001B[0m\u001B[0m\n\u001B[1;32m    850\u001B[0m   \u001B[0;32mdef\u001B[0m \u001B[0m_build_eager\u001B[0m\u001B[0;34m(\u001B[0m\u001B[0mself\u001B[0m\u001B[0;34m,\u001B[0m \u001B[0mcheckpoint_path\u001B[0m\u001B[0;34m,\u001B[0m \u001B[0mbuild_save\u001B[0m\u001B[0;34m,\u001B[0m \u001B[0mbuild_restore\u001B[0m\u001B[0;34m)\u001B[0m\u001B[0;34m:\u001B[0m\u001B[0;34m\u001B[0m\u001B[0;34m\u001B[0m\u001B[0m\n",
      "\u001B[0;32m~/Dokumenter/Programs/miniconda3/envs/LearningTensorFlow/lib/python3.8/site-packages/tensorflow/python/training/saver.py\u001B[0m in \u001B[0;36m_build\u001B[0;34m(self, checkpoint_path, build_save, build_restore)\u001B[0m\n\u001B[1;32m    871\u001B[0m           \u001B[0;32mreturn\u001B[0m\u001B[0;34m\u001B[0m\u001B[0;34m\u001B[0m\u001B[0m\n\u001B[1;32m    872\u001B[0m         \u001B[0;32melse\u001B[0m\u001B[0;34m:\u001B[0m\u001B[0;34m\u001B[0m\u001B[0;34m\u001B[0m\u001B[0m\n\u001B[0;32m--> 873\u001B[0;31m           \u001B[0;32mraise\u001B[0m \u001B[0mValueError\u001B[0m\u001B[0;34m(\u001B[0m\u001B[0;34m\"No variables to save\"\u001B[0m\u001B[0;34m)\u001B[0m\u001B[0;34m\u001B[0m\u001B[0;34m\u001B[0m\u001B[0m\n\u001B[0m\u001B[1;32m    874\u001B[0m       \u001B[0mself\u001B[0m\u001B[0;34m.\u001B[0m\u001B[0m_is_empty\u001B[0m \u001B[0;34m=\u001B[0m \u001B[0;32mFalse\u001B[0m\u001B[0;34m\u001B[0m\u001B[0;34m\u001B[0m\u001B[0m\n\u001B[1;32m    875\u001B[0m \u001B[0;34m\u001B[0m\u001B[0m\n",
      "\u001B[0;31mValueError\u001B[0m: No variables to save"
     ]
    }
   ],
   "source": [
    "train_var = [x,y_true,accuracy]\n",
    "tf.compat.v1.add_to_collection('train_var', train_var[0])\n",
    "tf.compat.v1.add_to_collection('train_var', train_var[1])\n",
    "tf.compat.v1.add_to_collection('train_var', train_var[2])\n",
    "\n",
    "saver = tf.compat.v1.train.Saver(max_to_keep=7,\n",
    "                       keep_checkpoint_every_n_hours=1)\n",
    "saver.export_meta_graph(os.path.join(DIR,\"model_ckpt.meta\")\n",
    "                        ,collection_list=['train_var'])"
   ],
   "metadata": {
    "collapsed": false,
    "pycharm": {
     "name": "#%%\n"
    }
   }
  },
  {
   "cell_type": "code",
   "execution_count": 14,
   "outputs": [
    {
     "ename": "SyntaxError",
     "evalue": "invalid syntax (<ipython-input-14-767ff5a80ce2>, line 9)",
     "output_type": "error",
     "traceback": [
      "\u001B[0;36m  File \u001B[0;32m\"<ipython-input-14-767ff5a80ce2>\"\u001B[0;36m, line \u001B[0;32m9\u001B[0m\n\u001B[0;31m    saver.restore(sess,  os.path.join(DIR,\"model_ckpt-1000\"))\u001B[0m\n\u001B[0m    ^\u001B[0m\n\u001B[0;31mSyntaxError\u001B[0m\u001B[0;31m:\u001B[0m invalid syntax\n"
     ]
    }
   ],
   "source": [
    "tf.compat.v1.reset_default_graph()\n",
    "DIR = \"../data/\"\n",
    "\n",
    "with tf.compat.v1.Session() as sess:\n",
    "    sess.run(tf.compat.v1.global_variables_initializer())\n",
    "\n",
    "    saver = tf.compat.v1.train.import_meta_graph(os.path.join(\n",
    "                                        DIR,\"model_ckpt.meta\")\n",
    "    saver.restore(sess,  os.path.join(DIR,\"model_ckpt-1000\"))\n",
    "    x =  tf.get_collection('train_var')[0]\n",
    "    y_true =  tf.get_collection('train_var')[1]\n",
    "    accuracy =  tf.get_collection('train_var')[2]\n",
    "\n",
    "    ans = sess.run(accuracy, feed_dict={x: data.test.images,\n",
    "                                        y_true: data.test.labels})\n",
    "print(\"Accuracy: {:.4}%\".format(ans*100))"
   ],
   "metadata": {
    "collapsed": false,
    "pycharm": {
     "name": "#%%\n"
    }
   }
  },
  {
   "cell_type": "code",
   "execution_count": 15,
   "outputs": [
    {
     "ename": "NameError",
     "evalue": "name 'saved_model_builder' is not defined",
     "output_type": "error",
     "traceback": [
      "\u001B[0;31m---------------------------------------------------------------------------\u001B[0m",
      "\u001B[0;31mNameError\u001B[0m                                 Traceback (most recent call last)",
      "\u001B[0;32m<ipython-input-15-8fa5dff1f6f8>\u001B[0m in \u001B[0;36m<module>\u001B[0;34m\u001B[0m\n\u001B[0;32m----> 1\u001B[0;31m \u001B[0mbuilder\u001B[0m \u001B[0;34m=\u001B[0m \u001B[0msaved_model_builder\u001B[0m\u001B[0;34m.\u001B[0m\u001B[0mSavedModelBuilder\u001B[0m\u001B[0;34m(\u001B[0m\u001B[0mexport_path\u001B[0m\u001B[0;34m)\u001B[0m\u001B[0;34m\u001B[0m\u001B[0;34m\u001B[0m\u001B[0m\n\u001B[0m\u001B[1;32m      2\u001B[0m \u001B[0;34m\u001B[0m\u001B[0m\n",
      "\u001B[0;31mNameError\u001B[0m: name 'saved_model_builder' is not defined"
     ]
    }
   ],
   "source": [
    "builder = saved_model_builder.SavedModelBuilder(export_path)"
   ],
   "metadata": {
    "collapsed": false,
    "pycharm": {
     "name": "#%%\n"
    }
   }
  },
  {
   "cell_type": "code",
   "execution_count": 16,
   "outputs": [
    {
     "ename": "NameError",
     "evalue": "name 'os' is not defined",
     "output_type": "error",
     "traceback": [
      "\u001B[0;31m---------------------------------------------------------------------------\u001B[0m",
      "\u001B[0;31mNameError\u001B[0m                                 Traceback (most recent call last)",
      "\u001B[0;32m<ipython-input-16-66aa3e4ac759>\u001B[0m in \u001B[0;36m<module>\u001B[0;34m\u001B[0m\n\u001B[1;32m      1\u001B[0m \u001B[0mexport_path_base\u001B[0m \u001B[0;34m=\u001B[0m \u001B[0msys\u001B[0m\u001B[0;34m.\u001B[0m\u001B[0margv\u001B[0m\u001B[0;34m[\u001B[0m\u001B[0;34m-\u001B[0m\u001B[0;36m1\u001B[0m\u001B[0;34m]\u001B[0m\u001B[0;34m\u001B[0m\u001B[0;34m\u001B[0m\u001B[0m\n\u001B[0;32m----> 2\u001B[0;31m export_path = os.path.join(\n\u001B[0m\u001B[1;32m      3\u001B[0m   \u001B[0mcompat\u001B[0m\u001B[0;34m.\u001B[0m\u001B[0mas_bytes\u001B[0m\u001B[0;34m(\u001B[0m\u001B[0mexport_path_base\u001B[0m\u001B[0;34m)\u001B[0m\u001B[0;34m,\u001B[0m\u001B[0;34m\u001B[0m\u001B[0;34m\u001B[0m\u001B[0m\n\u001B[1;32m      4\u001B[0m   compat.as_bytes(str(FLAGS.model_version)))\n\u001B[1;32m      5\u001B[0m \u001B[0;34m\u001B[0m\u001B[0m\n",
      "\u001B[0;31mNameError\u001B[0m: name 'os' is not defined"
     ]
    }
   ],
   "source": [
    "export_path_base = sys.argv[-1]\n",
    "export_path = os.path.join(\n",
    "  compat.as_bytes(export_path_base),\n",
    "  compat.as_bytes(str(FLAGS.model_version)))"
   ],
   "metadata": {
    "collapsed": false,
    "pycharm": {
     "name": "#%%\n"
    }
   }
  },
  {
   "cell_type": "code",
   "execution_count": 17,
   "outputs": [
    {
     "ename": "NameError",
     "evalue": "name 'builder' is not defined",
     "output_type": "error",
     "traceback": [
      "\u001B[0;31m---------------------------------------------------------------------------\u001B[0m",
      "\u001B[0;31mNameError\u001B[0m                                 Traceback (most recent call last)",
      "\u001B[0;32m<ipython-input-17-5c777a45decd>\u001B[0m in \u001B[0;36m<module>\u001B[0;34m\u001B[0m\n\u001B[0;32m----> 1\u001B[0;31m builder.add_meta_graph_and_variables(\n\u001B[0m\u001B[1;32m      2\u001B[0m   \u001B[0msess\u001B[0m\u001B[0;34m,\u001B[0m \u001B[0;34m[\u001B[0m\u001B[0mtag_constants\u001B[0m\u001B[0;34m.\u001B[0m\u001B[0mSERVING\u001B[0m\u001B[0;34m]\u001B[0m\u001B[0;34m,\u001B[0m\u001B[0;34m\u001B[0m\u001B[0;34m\u001B[0m\u001B[0m\n\u001B[1;32m      3\u001B[0m   signature_def_map={\n\u001B[1;32m      4\u001B[0m       \u001B[0;34m'predict_images'\u001B[0m\u001B[0;34m:\u001B[0m\u001B[0;34m\u001B[0m\u001B[0;34m\u001B[0m\u001B[0m\n\u001B[1;32m      5\u001B[0m           \u001B[0mprediction_signature\u001B[0m\u001B[0;34m,\u001B[0m\u001B[0;34m\u001B[0m\u001B[0;34m\u001B[0m\u001B[0m\n",
      "\u001B[0;31mNameError\u001B[0m: name 'builder' is not defined"
     ]
    }
   ],
   "source": [
    "builder.add_meta_graph_and_variables(\n",
    "  sess, [tag_constants.SERVING],\n",
    "  signature_def_map={\n",
    "      'predict_images':\n",
    "          prediction_signature,\n",
    "      signature_constants.DEFAULT_SERVING_SIGNATURE_DEF_KEY:\n",
    "          classification_signature,\n",
    "  },\n",
    "  legacy_init_op=legacy_init_op)"
   ],
   "metadata": {
    "collapsed": false,
    "pycharm": {
     "name": "#%%\n"
    }
   }
  },
  {
   "cell_type": "code",
   "execution_count": 18,
   "outputs": [
    {
     "ename": "NameError",
     "evalue": "name 'signature_def_utils' is not defined",
     "output_type": "error",
     "traceback": [
      "\u001B[0;31m---------------------------------------------------------------------------\u001B[0m",
      "\u001B[0;31mNameError\u001B[0m                                 Traceback (most recent call last)",
      "\u001B[0;32m<ipython-input-18-0ed16708c7b2>\u001B[0m in \u001B[0;36m<module>\u001B[0;34m\u001B[0m\n\u001B[0;32m----> 1\u001B[0;31m prediction_signature = signature_def_utils.build_signature_def(\n\u001B[0m\u001B[1;32m      2\u001B[0m   \u001B[0minputs\u001B[0m\u001B[0;34m=\u001B[0m\u001B[0;34m{\u001B[0m\u001B[0;34m'images'\u001B[0m\u001B[0;34m:\u001B[0m \u001B[0mtensor_info_x\u001B[0m\u001B[0;34m}\u001B[0m\u001B[0;34m,\u001B[0m\u001B[0;34m\u001B[0m\u001B[0;34m\u001B[0m\u001B[0m\n\u001B[1;32m      3\u001B[0m   \u001B[0moutputs\u001B[0m\u001B[0;34m=\u001B[0m\u001B[0;34m{\u001B[0m\u001B[0;34m'scores'\u001B[0m\u001B[0;34m:\u001B[0m \u001B[0mtensor_info_y\u001B[0m\u001B[0;34m}\u001B[0m\u001B[0;34m,\u001B[0m\u001B[0;34m\u001B[0m\u001B[0;34m\u001B[0m\u001B[0m\n\u001B[1;32m      4\u001B[0m   method_name=signature_constants.PREDICT_METHOD_NAME)\n",
      "\u001B[0;31mNameError\u001B[0m: name 'signature_def_utils' is not defined"
     ]
    }
   ],
   "source": [
    "prediction_signature = signature_def_utils.build_signature_def(\n",
    "  inputs={'images': tensor_info_x},\n",
    "  outputs={'scores': tensor_info_y},\n",
    "  method_name=signature_constants.PREDICT_METHOD_NAME)"
   ],
   "metadata": {
    "collapsed": false,
    "pycharm": {
     "name": "#%%\n"
    }
   }
  },
  {
   "cell_type": "code",
   "execution_count": 19,
   "outputs": [
    {
     "ename": "NameError",
     "evalue": "name 'utils' is not defined",
     "output_type": "error",
     "traceback": [
      "\u001B[0;31m---------------------------------------------------------------------------\u001B[0m",
      "\u001B[0;31mNameError\u001B[0m                                 Traceback (most recent call last)",
      "\u001B[0;32m<ipython-input-19-5bf0710141c1>\u001B[0m in \u001B[0;36m<module>\u001B[0;34m\u001B[0m\n\u001B[0;32m----> 1\u001B[0;31m \u001B[0mtensor_info_x\u001B[0m \u001B[0;34m=\u001B[0m \u001B[0mutils\u001B[0m\u001B[0;34m.\u001B[0m\u001B[0mbuild_tensor_info\u001B[0m\u001B[0;34m(\u001B[0m\u001B[0mx\u001B[0m\u001B[0;34m)\u001B[0m\u001B[0;34m\u001B[0m\u001B[0;34m\u001B[0m\u001B[0m\n\u001B[0m\u001B[1;32m      2\u001B[0m \u001B[0mtensor_info_y\u001B[0m \u001B[0;34m=\u001B[0m \u001B[0mutils\u001B[0m\u001B[0;34m.\u001B[0m\u001B[0mbuild_tensor_info\u001B[0m\u001B[0;34m(\u001B[0m\u001B[0my_conv\u001B[0m\u001B[0;34m)\u001B[0m\u001B[0;34m\u001B[0m\u001B[0;34m\u001B[0m\u001B[0m\n\u001B[1;32m      3\u001B[0m \u001B[0;34m\u001B[0m\u001B[0m\n",
      "\u001B[0;31mNameError\u001B[0m: name 'utils' is not defined"
     ]
    }
   ],
   "source": [
    "tensor_info_x = utils.build_tensor_info(x)\n",
    "tensor_info_y = utils.build_tensor_info(y_conv)"
   ],
   "metadata": {
    "collapsed": false,
    "pycharm": {
     "name": "#%%\n"
    }
   }
  },
  {
   "cell_type": "code",
   "execution_count": 20,
   "outputs": [
    {
     "ename": "NameError",
     "evalue": "name 'utils' is not defined",
     "output_type": "error",
     "traceback": [
      "\u001B[0;31m---------------------------------------------------------------------------\u001B[0m",
      "\u001B[0;31mNameError\u001B[0m                                 Traceback (most recent call last)",
      "\u001B[0;32m<ipython-input-20-a9aa760b6060>\u001B[0m in \u001B[0;36m<module>\u001B[0;34m\u001B[0m\n\u001B[1;32m      1\u001B[0m \u001B[0;31m# Build the signature_def_map\u001B[0m\u001B[0;34m\u001B[0m\u001B[0;34m\u001B[0m\u001B[0;34m\u001B[0m\u001B[0m\n\u001B[0;32m----> 2\u001B[0;31m classification_inputs = utils.build_tensor_info(\n\u001B[0m\u001B[1;32m      3\u001B[0m                                             serialized_tf_example)\n\u001B[1;32m      4\u001B[0m classification_outputs_classes = utils.build_tensor_info(\n\u001B[1;32m      5\u001B[0m                                             prediction_classes)\n",
      "\u001B[0;31mNameError\u001B[0m: name 'utils' is not defined"
     ]
    }
   ],
   "source": [
    "# Build the signature_def_map\n",
    "classification_inputs = utils.build_tensor_info(\n",
    "                                            serialized_tf_example)\n",
    "classification_outputs_classes = utils.build_tensor_info(\n",
    "                                            prediction_classes)\n",
    "classification_outputs_scores = utils.build_tensor_info(values)\n",
    "\n",
    "classification_signature = signature_def_utils.build_signature_def(\n",
    "  inputs={signature_constants.CLASSIFY_INPUTS:\n",
    "                              classification_inputs},\n",
    "  outputs={\n",
    "      signature_constants.CLASSIFY_OUTPUT_CLASSES:\n",
    "          classification_outputs_classes,\n",
    "      signature_constants.CLASSIFY_OUTPUT_SCORES:\n",
    "          classification_outputs_scores\n",
    "  },\n",
    "  method_name=signature_constants.CLASSIFY_METHOD_NAME)"
   ],
   "metadata": {
    "collapsed": false,
    "pycharm": {
     "name": "#%%\n"
    }
   }
  },
  {
   "cell_type": "code",
   "execution_count": 21,
   "outputs": [
    {
     "ename": "NameError",
     "evalue": "name 'builder' is not defined",
     "output_type": "error",
     "traceback": [
      "\u001B[0;31m---------------------------------------------------------------------------\u001B[0m",
      "\u001B[0;31mNameError\u001B[0m                                 Traceback (most recent call last)",
      "\u001B[0;32m<ipython-input-21-d34a2e4d2e28>\u001B[0m in \u001B[0;36m<module>\u001B[0;34m\u001B[0m\n\u001B[0;32m----> 1\u001B[0;31m \u001B[0mbuilder\u001B[0m\u001B[0;34m.\u001B[0m\u001B[0msave\u001B[0m\u001B[0;34m(\u001B[0m\u001B[0;34m)\u001B[0m\u001B[0;34m\u001B[0m\u001B[0;34m\u001B[0m\u001B[0m\n\u001B[0m\u001B[1;32m      2\u001B[0m \u001B[0;34m\u001B[0m\u001B[0m\n",
      "\u001B[0;31mNameError\u001B[0m: name 'builder' is not defined"
     ]
    }
   ],
   "source": [
    "builder.save()"
   ],
   "metadata": {
    "collapsed": false,
    "pycharm": {
     "name": "#%%\n"
    }
   }
  },
  {
   "cell_type": "code",
   "execution_count": 23,
   "outputs": [
    {
     "ename": "IndentationError",
     "evalue": "unindent does not match any outer indentation level (<tokenize>, line 145)",
     "output_type": "error",
     "traceback": [
      "\u001B[0;36m  File \u001B[0;32m\"<tokenize>\"\u001B[0;36m, line \u001B[0;32m145\u001B[0m\n\u001B[0;31m    signature_constants.CLASSIFY_OUTPUT_CLASSES:\u001B[0m\n\u001B[0m    ^\u001B[0m\n\u001B[0;31mIndentationError\u001B[0m\u001B[0;31m:\u001B[0m unindent does not match any outer indentation level\n"
     ]
    }
   ],
   "source": [
    "import os\n",
    "import sys\n",
    "import tensorflow as tf\n",
    "from tensorflow.python.saved_model import builder\n",
    "                                           as saved_model_builder\n",
    "from tensorflow.python.saved_model import signature_constants\n",
    "from tensorflow.python.saved_model import signature_def_utils\n",
    "from tensorflow.python.saved_model import tag_constants\n",
    "from tensorflow.python.saved_model import utils\n",
    "from tensorflow.python.util import compat\n",
    "from tensorflow_serving.example import mnist_input_data\n",
    "\n",
    "tf.compat.v1.flags.DEFINE_integer('training_iteration', 10,\n",
    "                            'number of training iterations.')\n",
    "tf.compat.v1.flags.DEFINE_integer(\n",
    "                 'model_version', 1, 'version number of the model.')\n",
    "tf.compat.v1.flags.DEFINE_string('work_dir', '/tmp', 'Working directory.')\n",
    "FLAGS = tf.compat.v1.flags.FLAGS\n",
    "\n",
    "\n",
    "def weight_variable(shape):\n",
    "  initial = tf.compat.v1.truncated_normal(shape, stddev=0.1)\n",
    "  return tf.Variable(initial,dtype='float')\n",
    "\n",
    "def bias_variable(shape):\n",
    "  initial = tf.constant(0.1, shape=shape)\n",
    "  return tf.Variable(initial,dtype='float')\n",
    "\n",
    "def conv2d(x, W):\n",
    "  return tf.nn.conv2d(x, W, strides=[1, 1, 1, 1], padding='SAME')\n",
    "\n",
    "def max_pool_2x2(x):\n",
    "  return tf.nn.max_pool(x, ksize=[1, 2, 2, 1],\n",
    "                        strides=[1, 2, 2, 1], padding='SAME')\n",
    "\n",
    "def main(_):\n",
    "    if len(sys.argv) < 2 or sys.argv[-1].startswith('-'):\n",
    "        print('Usage: mnist_export.py [--training_iteration=x] '\n",
    "              '[--model_version=y] export_dir')\n",
    "        sys.exit(-1)\n",
    "    if FLAGS.training_iteration <= 0:\n",
    "        print('Please specify a positive\n",
    "                                 value for training iteration.')\n",
    "        sys.exit(-1)\n",
    "    if FLAGS.model_version <= 0:\n",
    "        print ('Please specify a positive\n",
    "                                     value for version number.')\n",
    "        sys.exit(-1)\n",
    "\n",
    "\n",
    "    print('Training...')\n",
    "    mnist = mnist_input_data.read_data_sets(\n",
    "                                  FLAGS.work_dir, one_hot=True)\n",
    "    sess = tf.InteractiveSession()\n",
    "    serialized_tf_example = tf.placeholder(\n",
    "                                  tf.string, name='tf_example')\n",
    "    feature_configs = {'x': tf.compat.v1.FixedLenFeature(shape=[784],\n",
    "                                            dtype=tf.float32),}\n",
    "    tf_example = tf.compat.v1.parse_example(serialized_tf_example,\n",
    "                                                feature_configs)\n",
    "\n",
    "\n",
    "    x = tf.identity(tf_example['x'], name='x')\n",
    "    y_ = tf.compat.v1.placeholder('float', shape=[None, 10])\n",
    "\n",
    "    W_conv1 = weight_variable([5, 5, 1, 32])\n",
    "    b_conv1 = bias_variable([32])\n",
    "    x_image = tf.reshape(x, [-1,28,28,1])\n",
    "\n",
    "    h_conv1 = tf.nn.relu(conv2d(x_image, W_conv1) + b_conv1)\n",
    "    h_pool1 = max_pool_2x2(h_conv1)\n",
    "\n",
    "    W_conv2 = weight_variable([5, 5, 32, 64])\n",
    "    b_conv2 = bias_variable([64])\n",
    "\n",
    "    h_conv2 = tf.nn.relu(conv2d(h_pool1, W_conv2) + b_conv2)\n",
    "    h_pool2 = max_pool_2x2(h_conv2)\n",
    "\n",
    "\n",
    "    W_fc1 = weight_variable([7 * 7 * 64, 1024])\n",
    "    b_fc1 = bias_variable([1024])\n",
    "\n",
    "    h_pool2_flat = tf.reshape(h_pool2, [-1, 7*7*64])\n",
    "    h_fc1 = tf.nn.relu(tf.matmul(h_pool2_flat, W_fc1) + b_fc1)\n",
    "\n",
    "\n",
    "    keep_prob = tf.compat.v1.placeholder(tf.float32)\n",
    "    h_fc1_drop = tf.nn.dropout(h_fc1, keep_prob)\n",
    "\n",
    "    W_fc2 = weight_variable([1024, 10])\n",
    "    b_fc2 = bias_variable([10])\n",
    "\n",
    "    y_conv = tf.matmul(h_fc1_drop, W_fc2) + b_fc2\n",
    "\n",
    "\n",
    "    y = tf.nn.softmax(y_conv, name='y')\n",
    "    cross_entropy = -tf.reduce_sum(y_ * tf.compat.v1.log(y_conv))\n",
    "    train_step = tf.compat.v1.train.AdamOptimizer(1e-4)\\\n",
    "                                          .minimize(cross_entropy)\n",
    "\n",
    "\n",
    "    values, indices = tf.nn.top_k(y_conv, 10)\n",
    "    prediction_classes = tf.compat.v1.lookup.index_to_string(\n",
    "      tf.compat.v1.to_int64(indices),\n",
    "      mapping=tf.constant([str(i) for i in xrange(10)]))\n",
    "\n",
    "    sess.run(tf.compat.v1.global_variables_initializer())\n",
    "\n",
    "    for _ in range(FLAGS.training_iteration):\n",
    "        batch = mnist.train.next_batch(50)\n",
    "\n",
    "        train_step.run(feed_dict={x: batch[0],\n",
    "                                  y_: batch[1], keep_prob: 0.5})\n",
    "        print(_)\n",
    "        correct_prediction = tf.equal(tf.argmax(y_conv,1),\n",
    "                                         tf.argmax(y_,1))\n",
    "\n",
    "\n",
    "    accuracy = tf.reduce_mean(tf.cast(correct_prediction, 'float'))\n",
    "                       y_: mnist.test.labels})\n",
    "\n",
    "    print('training accuracy %g' % accuracy.eval(feed_dict={\n",
    "        x: mnist.test.images,\n",
    "        y_: mnist.test.labels, keep_prob: 1.0}))\n",
    "\n",
    "    print('training is finished!')\n",
    "\n",
    "    export_path_base = sys.argv[-1]\n",
    "    export_path = os.path.join(\n",
    "      compat.as_bytes(export_path_base),\n",
    "      compat.as_bytes(str(FLAGS.model_version)))\n",
    "    print('Exporting trained model to', export_path)\n",
    "    builder = saved_model_builder.SavedModelBuilder(export_path)\n",
    "\n",
    "    classification_inputs = utils.build_tensor_info(\n",
    "                                             serialized_tf_example)\n",
    "    classification_outputs_classes = utils.build_tensor_info(\n",
    "                                             prediction_classes)\n",
    "    classification_outputs_scores = utils.build_tensor_info(values)\n",
    "\n",
    "    classification_signature = signature_def_utils.build_signature_def(\n",
    "      inputs={signature_constants.CLASSIFY_INPUTS:\n",
    "                           classification_inputs},\n",
    "      outputs={\n",
    "          signature_constants.CLASSIFY_OUTPUT_CLASSES:\n",
    "              classification_outputs_classes,\n",
    "          signature_constants.CLASSIFY_OUTPUT_SCORES:\n",
    "              classification_outputs_scores\n",
    "      },\n",
    "      method_name=signature_constants.CLASSIFY_METHOD_NAME)\n",
    "\n",
    "    tensor_info_x = utils.build_tensor_info(x)\n",
    "    tensor_info_y = utils.build_tensor_info(y_conv)\n",
    "\n",
    "    prediction_signature = signature_def_utils.build_signature_def(\n",
    "      inputs={'images': tensor_info_x},\n",
    "      outputs={'scores': tensor_info_y},\n",
    "      method_name=signature_constants.PREDICT_METHOD_NAME)\n",
    "\n",
    "    legacy_init_op = tf.group(tf.compat.v1.initialize_all_tables(),\n",
    "                                   name='legacy_init_op')\n",
    "    builder.add_meta_graph_and_variables(\n",
    "      sess, [tag_constants.SERVING],\n",
    "      signature_def_map={\n",
    "          'predict_images':\n",
    "              prediction_signature,\n",
    "          signature_constants.DEFAULT_SERVING_SIGNATURE_DEF_KEY:\n",
    "              classification_signature,\n",
    "      },\n",
    "      legacy_init_op=legacy_init_op)\n",
    "\n",
    "    builder.save()\n",
    "\n",
    "    print('new model exported!')\n",
    "\n",
    "\n",
    "if __name__ == '__main__':\n",
    "    tf.compat.v1.app.run()"
   ],
   "metadata": {
    "collapsed": false,
    "pycharm": {
     "name": "#%%\n"
    }
   }
  },
  {
   "cell_type": "code",
   "execution_count": null,
   "outputs": [],
   "source": [],
   "metadata": {
    "collapsed": false,
    "pycharm": {
     "name": "#%%\n"
    }
   }
  }
 ],
 "metadata": {
  "kernelspec": {
   "display_name": "Python 3",
   "language": "python",
   "name": "python3"
  },
  "language_info": {
   "codemirror_mode": {
    "name": "ipython",
    "version": 2
   },
   "file_extension": ".py",
   "mimetype": "text/x-python",
   "name": "python",
   "nbconvert_exporter": "python",
   "pygments_lexer": "ipython2",
   "version": "2.7.6"
  }
 },
 "nbformat": 4,
 "nbformat_minor": 0
}